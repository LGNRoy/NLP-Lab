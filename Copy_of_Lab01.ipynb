{
  "nbformat": 4,
  "nbformat_minor": 0,
  "metadata": {
    "colab": {
      "name": "Copy of Lab01.ipynb",
      "version": "0.3.2",
      "provenance": [],
      "collapsed_sections": [],
      "toc_visible": true
    },
    "kernelspec": {
      "name": "python3",
      "display_name": "Python 3"
    },
    "accelerator": "GPU"
  },
  "cells": [
    {
      "metadata": {
        "id": "3-tNXEbFOf-g",
        "colab_type": "text"
      },
      "cell_type": "markdown",
      "source": [
        "# Lab 01"
      ]
    },
    {
      "metadata": {
        "id": "6Vmb3ZK5SOhz",
        "colab_type": "text"
      },
      "cell_type": "markdown",
      "source": [
        "# Tensorflow"
      ]
    },
    {
      "metadata": {
        "id": "9jJgT_lITGdG",
        "colab_type": "text"
      },
      "cell_type": "markdown",
      "source": [
        "[Tensorflow](https://www.tensorflow.org/) is a computational framework for building machine learning models. \n",
        "\n",
        "Before we use Tensorflow it is (obviously) neccessary to understand what Tensorflow is.\n",
        "\n",
        "**Tensorflow = [Tensor](https://www.tensorflow.org/guide/tensors) + [Flow](https://www.tensorflow.org/guide/graphs)**(will learn more about this later)\n",
        "\n",
        "## Tensor\n",
        "A [tensor](https://www.tensorflow.org/guide/tensors) is a generalization of vectors and matrices to potentially higher dimensions.\n",
        "\n",
        "A [tf.Tensor](https://www.tensorflow.org/api_docs/python/tf/Tensor) has the following properties : (<https://www.tensorflow.org/guide/tensors>)\n",
        "*   a data type (float32, int32, or string, for example)\n",
        "*   a shape\n",
        "\n",
        "\n",
        "\n",
        "![Tensor_Rank](https://drive.google.com/uc?id=1o5wulLHGxUuPxH3t3xfV8U7d2CrsL1oG)\n",
        "\n",
        "\n",
        "\n"
      ]
    },
    {
      "metadata": {
        "id": "xWQxFb_W8flk",
        "colab_type": "text"
      },
      "cell_type": "markdown",
      "source": [
        "### Importing tensorflow library\n",
        "[Google Colab](https://colab.research.google.com/notebooks/welcome.ipynb) has tensorflow library installed as default so you just need to import it as below:"
      ]
    },
    {
      "metadata": {
        "id": "ksP6PBngSSTH",
        "colab_type": "code",
        "colab": {}
      },
      "cell_type": "code",
      "source": [
        "import tensorflow as tf"
      ],
      "execution_count": 0,
      "outputs": []
    },
    {
      "metadata": {
        "id": "XPp2MGCe1apL",
        "colab_type": "text"
      },
      "cell_type": "markdown",
      "source": [
        "## Constant\n",
        "WIth Tensorflow, we will be implementing lots of models. [Constant](https://www.tensorflow.org/api_docs/python/tf/constant) is a typical value that we need to set for the model. Any dimensional tensors can be declared."
      ]
    },
    {
      "metadata": {
        "id": "TaDqOxzhSUmf",
        "colab_type": "code",
        "outputId": "6d2a6e43-02c2-422f-d70e-c137caa94d28",
        "colab": {
          "base_uri": "https://localhost:8080/",
          "height": 104
        }
      },
      "cell_type": "code",
      "source": [
        "\n",
        "with tf.Session() as sess:\n",
        "  # Scalar (0 Rank)\n",
        "  x0 = tf.constant(2.1)\n",
        "  print (tf.rank(x0).eval(), \" : \",  tf.shape(x0).eval())\n",
        "#   print (tf.get_default_session().run(tf.rank(x0)), \" : \",  tf.get_default_session().run(tf.shape(x0)))\n",
        "  \n",
        "\n",
        "  # Vector (1 Rank)\n",
        "  x1 = tf.constant([-1.3, 4.22, 8.0, 9.3])\n",
        "  print (tf.rank(x1).eval(), \" : \",  tf.shape(x1).eval())\n",
        "\n",
        "\n",
        "  # Matrix (2 Rank)\n",
        "  x2 = tf.constant([[-1.3, 4.22, 8.0, 9.3],\n",
        "                  [-4.3, 0.12, 37.0, 14.3],\n",
        "                  [2.3, 5.4, 28.0, 22.4],\n",
        "                  [9.3, -6.2, 88.2, 31.8]])\n",
        "  print (tf.rank(x2).eval(), \" : \",  tf.shape(x2).eval())\n",
        "\n",
        "\n",
        "  # Cube (3 Rank)\n",
        "  x3 = tf.stack([x2,x2,x2,x2])\n",
        "  print (tf.rank(x3).eval(), \" : \",  tf.shape(x3).eval())\n",
        "\n",
        "\n",
        "  # Vector of cubes (4 Rank)\n",
        "  x4 = tf.stack([x3,x3,x3,x3])\n",
        "  print (tf.rank(x4).eval(), \" : \",  tf.shape(x4).eval())\n",
        "\n",
        "\n",
        "  # and so on..."
      ],
      "execution_count": 0,
      "outputs": [
        {
          "output_type": "stream",
          "text": [
            "0  :  []\n",
            "1  :  [4]\n",
            "2  :  [4 4]\n",
            "3  :  [4 4 4]\n",
            "4  :  [4 4 4 4]\n"
          ],
          "name": "stdout"
        }
      ]
    },
    {
      "metadata": {
        "id": "rKz1UOFEHYVr",
        "colab_type": "text"
      },
      "cell_type": "markdown",
      "source": [
        "More info: [stack()](https://www.tensorflow.org/api_docs/python/tf/stack), [rank()](https://www.tensorflow.org/api_docs/python/tf/rank), [shape()](https://www.tensorflow.org/api_docs/python/tf/shape), eval(x0) is a shorcut of tf.get_default_session().run(x0)"
      ]
    },
    {
      "metadata": {
        "id": "3ePn-3UfyZd3",
        "colab_type": "text"
      },
      "cell_type": "markdown",
      "source": [
        "## Variable\n",
        "[Variable](https://www.tensorflow.org/api_docs/python/tf/Variable) will be changed as the TensorFlow program runs. \n",
        "\n",
        "Why Variable is *Capitalised* (whereas constant is not)?\n",
        "\n",
        "*   Variable is a class that contains many operations\n",
        "*   constant is an operation\n",
        "\n"
      ]
    },
    {
      "metadata": {
        "id": "XGZlwEd_ygnJ",
        "colab_type": "code",
        "outputId": "e4682b02-44db-40a8-e86f-ebc615d4f6d8",
        "colab": {
          "base_uri": "https://localhost:8080/",
          "height": 228
        }
      },
      "cell_type": "code",
      "source": [
        "# Variable \n",
        "W1 = tf.ones((3,3))\n",
        "W2 = tf.Variable(tf.zeros((3,3)), name=\"weights\")  \n",
        "\n",
        "with tf.Session() as sess:   \n",
        "  \n",
        "  print(\"W1 : \")\n",
        "  print(sess.run(W1))   \n",
        "  sess.run(tf.global_variables_initializer())   \n",
        "  \n",
        "  print(\"W2 : \")\n",
        "  print(sess.run(W2))\n"
      ],
      "execution_count": 0,
      "outputs": [
        {
          "output_type": "stream",
          "text": [
            "WARNING:tensorflow:From /usr/local/lib/python3.6/dist-packages/tensorflow/python/framework/op_def_library.py:263: colocate_with (from tensorflow.python.framework.ops) is deprecated and will be removed in a future version.\n",
            "Instructions for updating:\n",
            "Colocations handled automatically by placer.\n",
            "W1 : \n",
            "[[1. 1. 1.]\n",
            " [1. 1. 1.]\n",
            " [1. 1. 1.]]\n",
            "W2 : \n",
            "[[0. 0. 0.]\n",
            " [0. 0. 0.]\n",
            " [0. 0. 0.]]\n"
          ],
          "name": "stdout"
        }
      ]
    },
    {
      "metadata": {
        "id": "BxkEiUGsMN2k",
        "colab_type": "text"
      },
      "cell_type": "markdown",
      "source": [
        "More info: [zeros()](https://www.tensorflow.org/api_docs/python/tf/zeros) \n"
      ]
    },
    {
      "metadata": {
        "id": "EGvmC7YFzcUQ",
        "colab_type": "text"
      },
      "cell_type": "markdown",
      "source": [
        "### tf.Variable() vs tf.get_variable()\n",
        "\n",
        "[Tensorflow Guide](https://www.tensorflow.org/guide/variables) suggests to create a variable using tf.get_variable(). It reuses a previously created variable of the same name, making it easy to define models which reuse layers.\n",
        "\n",
        "*   tf.Variable() will always create a new variable whereas \n",
        "*   tf.get_variable() will check the variable with the given parameters exists. If not, new variable will be created.\n",
        "\n"
      ]
    },
    {
      "metadata": {
        "id": "rzkONhl61k2q",
        "colab_type": "code",
        "outputId": "0de4b588-01f2-4040-e20e-b910cfd2a5c0",
        "colab": {
          "base_uri": "https://localhost:8080/",
          "height": 35
        }
      },
      "cell_type": "code",
      "source": [
        "var1 = tf.Variable(tf.zeros((3,3)), name=\"variable1\")  \n",
        "print(var1)\n",
        "#You can see the name of the variable will be changed if you run the code again.\n",
        "# variable1, variable1_1, variable1_2, ...\n"
      ],
      "execution_count": 0,
      "outputs": [
        {
          "output_type": "stream",
          "text": [
            "<tf.Variable 'variable1:0' shape=(3, 3) dtype=float32_ref>\n"
          ],
          "name": "stdout"
        }
      ]
    },
    {
      "metadata": {
        "id": "05XupxRI1k9H",
        "colab_type": "code",
        "outputId": "c7a59a43-7473-448e-ffa9-4d2d03b13439",
        "colab": {
          "base_uri": "https://localhost:8080/",
          "height": 35
        }
      },
      "cell_type": "code",
      "source": [
        "####\n",
        "\n",
        "####\n",
        "\n",
        "var2 = tf.get_variable(\"variable2\", initializer=tf.zeros((3,3))) \n",
        "print(var2) \n",
        "#You will get an error if you run this bit of codes more than once. The \"variable2\" was created so it cannot be created again.\n",
        "\n",
        "#To prevent this error, you could add the following line before calling get_variable(). \n",
        "# tf.reset_default_graph()"
      ],
      "execution_count": 0,
      "outputs": [
        {
          "output_type": "stream",
          "text": [
            "<tf.Variable 'variable2:0' shape=(3, 3) dtype=float32_ref>\n"
          ],
          "name": "stdout"
        }
      ]
    },
    {
      "metadata": {
        "id": "rhZ79BUqybVh",
        "colab_type": "text"
      },
      "cell_type": "markdown",
      "source": [
        "## Session\n",
        "**[Session](https://www.tensorflow.org/api_docs/python/tf/Session)** encapsulates the state of the environment in which Operation objects are executed, and Tensor objects are evaluated. Before the actual operation is executed with the Session, the tensor with operation is just an object that contains object that you encapsulated. Once you run it with the session, you can get the actual output that you want to get."
      ]
    },
    {
      "metadata": {
        "id": "MqFAfzK3T33Q",
        "colab_type": "code",
        "outputId": "8ecf7c04-2ed6-4fca-d7a7-92c7b2578cde",
        "colab": {
          "base_uri": "https://localhost:8080/",
          "height": 35
        }
      },
      "cell_type": "code",
      "source": [
        "# Without Session\n",
        "a = 1\n",
        "b = 2\n",
        "c = tf.add(a,b)\n",
        "\n",
        "print(c)"
      ],
      "execution_count": 0,
      "outputs": [
        {
          "output_type": "stream",
          "text": [
            "Tensor(\"Add:0\", shape=(), dtype=int32)\n"
          ],
          "name": "stdout"
        }
      ]
    },
    {
      "metadata": {
        "id": "MckBuCeApf5U",
        "colab_type": "code",
        "outputId": "2f884f82-ea8b-4681-e278-6378eaf1bf63",
        "colab": {
          "base_uri": "https://localhost:8080/",
          "height": 35
        }
      },
      "cell_type": "code",
      "source": [
        "# With Session\n",
        "a = 1\n",
        "b = 2\n",
        "c = tf.add(a,b)\n",
        "\n",
        "with tf.Session() as sess:\n",
        "  print(sess.run(c))\n",
        "  \n",
        "sess.close()"
      ],
      "execution_count": 0,
      "outputs": [
        {
          "output_type": "stream",
          "text": [
            "3\n"
          ],
          "name": "stdout"
        }
      ]
    },
    {
      "metadata": {
        "id": "9pHGvRy4yoMZ",
        "colab_type": "text"
      },
      "cell_type": "markdown",
      "source": [
        "## Placeholder\n",
        "[Placeholder](https://www.tensorflow.org/api_docs/python/tf/placeholder) is a variable that can be assigned later (in the runtime). This means it does not have to contain initial value for the operation. We can assign the value with \"feed_dict\" argument inside [Session.run()](https://www.tensorflow.org/api_docs/python/tf/Session#run)\n",
        "\n"
      ]
    },
    {
      "metadata": {
        "id": "SPXcpTwyyp_n",
        "colab_type": "code",
        "outputId": "d91eefc8-7084-43ea-c65e-4984fe6359ac",
        "colab": {
          "base_uri": "https://localhost:8080/",
          "height": 35
        }
      },
      "cell_type": "code",
      "source": [
        "# a list values for placeholder x\n",
        "input1 = [1.0, 2.5, 3.0, 4.5, 5.0]\n",
        "input2 = [1.5, 2.5, 10.0, 14.5, 15.0]\n",
        "\n",
        "# placeholder x with datatype float32\n",
        "x = tf.placeholder(dtype=tf.float32)\n",
        "b = tf.placeholder(dtype=tf.float32)\n",
        "y = 10 * x + b\n",
        "\n",
        "with tf.Session() as sess:\n",
        "  print (sess.run(y, feed_dict={x: input1, b: input2}))\n"
      ],
      "execution_count": 0,
      "outputs": [
        {
          "output_type": "stream",
          "text": [
            "[11.5 27.5 40.  59.5 65. ]\n"
          ],
          "name": "stdout"
        }
      ]
    },
    {
      "metadata": {
        "id": "IE91VTvN_YVB",
        "colab_type": "text"
      },
      "cell_type": "markdown",
      "source": [
        "## Linear Regression\n",
        "\n",
        "![Linear_Regression](https://upload.wikimedia.org/wikipedia/commons/thumb/3/3a/Linear_regression.svg/320px-Linear_regression.svg.png)\n",
        "\n",
        "The following code implements a simple linear regression algorithm."
      ]
    },
    {
      "metadata": {
        "id": "D6VTiDjoQBt-",
        "colab_type": "code",
        "outputId": "f5ff4462-ef2d-4b48-810b-48eb0308eba0",
        "colab": {
          "base_uri": "https://localhost:8080/",
          "height": 1252
        }
      },
      "cell_type": "code",
      "source": [
        "import numpy\n",
        "import matplotlib.pyplot as plt\n",
        "\n",
        "# An epoch is one iteration over the entire input data\n",
        "no_of_epochs = 5000\n",
        "# How often you want to display training info.\n",
        "display_interval = 200\n",
        "\n",
        "# training data\n",
        "x_training = numpy.asarray([1,2,5,8,9,12,14,16,18,20])\n",
        "y_training = numpy.asarray([1500,3500,7200,11000,12500,18500,22000,24500,28000,30500])\n",
        "\n",
        "# Set variables for the model\n",
        "W = tf.Variable(numpy.random.randn(), name=\"Weight\")\n",
        "b = tf.Variable(numpy.random.randn(), name=\"bias\")\n",
        "\n",
        "# Placeholders for the model\n",
        "X = tf.placeholder(tf.float32)\n",
        "Y = tf.placeholder(tf.float32)\n",
        "\n",
        "# Hypothesis = W * X + b (Linear Model)\n",
        "H = tf.add(tf.multiply(W, X), b)\n",
        "\n",
        "# Cost for calculating the model performance \n",
        "cost = tf.reduce_sum(tf.pow(H-Y, 2))/(2*x_training.shape[0])\n",
        "\n",
        "# Gradient descent optimizer with learning rate 0.01\n",
        "optimizer = tf.train.GradientDescentOptimizer(learning_rate=0.01)\n",
        "\n",
        "# Target (training model) to be executed\n",
        "train_model = optimizer.minimize(cost)\n",
        "\n",
        "# Initialize the variables (i.e. assign their default value)\n",
        "init = tf.global_variables_initializer()\n",
        "\n",
        "with tf.Session() as sess:\n",
        "  \n",
        "  sess.run(init)\n",
        "  \n",
        "  # Every epoch, the model will be modified by the given learning rate\n",
        "  for epoch in range(no_of_epochs):\n",
        "    sess.run(train_model, feed_dict={X:x_training, Y:y_training})    \n",
        "    # every display_interval loop, the training information will be displayed\n",
        "    if epoch % display_interval == 0 :\n",
        "      # calculate the cost of the current model\n",
        "      c = sess.run(cost, feed_dict={X:x_training, Y:y_training})            \n",
        "      print(\"Epoch:\", '%04d' % (epoch), \"cost=\", \"{:.8f}\".format(c), \\\n",
        "                \"W=\", \"{:.4f}\".format(sess.run(W)), \"b=\",  \"{:.4f}\".format(sess.run(b)))\n",
        "\n",
        "  print(\"=========================================================\")\n",
        "  training_cost = sess.run(cost, feed_dict={X:x_training, Y:y_training})\n",
        "  print(\"Optimised:\", \"cost=\", \"{:.9f}\".format(training_cost), \\\n",
        "                \"W=\", sess.run(W), \"b=\", sess.run(b))\n",
        "      \n",
        "  # Plot training data on the graph\n",
        "  plt.plot(x_training, y_training, 'ro', label='Training data')\n",
        "  plt.plot(x_training, sess.run(W) * x_training + sess.run(b), label='Linear')\n",
        "  plt.legend()\n",
        "  plt.show()\n",
        "\n",
        "  x_test = numpy.asarray([3,7,13,15,19])\n",
        "  y_test = numpy.asarray([4400,10000,19500,23500,29000])\n",
        "  \n",
        "  # Calculate testing cost\n",
        "  testing_cost = sess.run(\n",
        "      tf.reduce_mean(tf.square(H - Y)),\n",
        "      feed_dict={X: x_test, Y: y_test}) \n",
        "  print(\"Testing cost=\", testing_cost)\n",
        "  print(\"Absolute mean square loss difference:\", abs(\n",
        "        training_cost - testing_cost))\n",
        "    \n",
        "  # Plot testing data on the graph\n",
        "  plt.plot(x_test, y_test, 'bo', label='Testing data')\n",
        "  plt.plot(x_test, sess.run(W) * x_test + sess.run(b), label='Linear')\n",
        "  plt.legend()\n",
        "  plt.show()"
      ],
      "execution_count": 0,
      "outputs": [
        {
          "output_type": "stream",
          "text": [
            "WARNING:tensorflow:From /usr/local/lib/python3.6/dist-packages/tensorflow/python/ops/math_ops.py:3066: to_int32 (from tensorflow.python.ops.math_ops) is deprecated and will be removed in a future version.\n",
            "Instructions for updating:\n",
            "Use tf.cast instead.\n",
            "Epoch: 0000 cost= 44144624.00000000 W= 2281.2305 b= 157.3498\n",
            "Epoch: 0200 cost= 196622.60937500 W= 1532.3431 b= -94.3427\n",
            "Epoch: 0400 cost= 189554.68750000 W= 1540.5999 b= -211.6969\n",
            "Epoch: 0600 cost= 187072.51562500 W= 1545.4930 b= -281.2446\n",
            "Epoch: 0800 cost= 186200.50000000 W= 1548.3928 b= -322.4606\n",
            "Epoch: 1000 cost= 185894.42187500 W= 1550.1113 b= -346.8866\n",
            "Epoch: 1200 cost= 185786.75000000 W= 1551.1298 b= -361.3619\n",
            "Epoch: 1400 cost= 185749.21875000 W= 1551.7334 b= -369.9405\n",
            "Epoch: 1600 cost= 185735.64062500 W= 1552.0911 b= -375.0244\n",
            "Epoch: 1800 cost= 185731.17187500 W= 1552.3031 b= -378.0372\n",
            "Epoch: 2000 cost= 185729.54687500 W= 1552.4288 b= -379.8227\n",
            "Epoch: 2200 cost= 185728.92187500 W= 1552.5032 b= -380.8811\n",
            "Epoch: 2400 cost= 185728.73437500 W= 1552.5474 b= -381.5082\n",
            "Epoch: 2600 cost= 185728.48437500 W= 1552.5735 b= -381.8798\n",
            "Epoch: 2800 cost= 185728.68750000 W= 1552.5890 b= -382.1000\n",
            "Epoch: 3000 cost= 185728.59375000 W= 1552.5981 b= -382.2305\n",
            "Epoch: 3200 cost= 185728.81250000 W= 1552.6035 b= -382.3079\n",
            "Epoch: 3400 cost= 185728.62500000 W= 1552.6068 b= -382.3536\n",
            "Epoch: 3600 cost= 185728.64062500 W= 1552.6088 b= -382.3808\n",
            "Epoch: 3800 cost= 185728.59375000 W= 1552.6099 b= -382.3966\n",
            "Epoch: 4000 cost= 185728.60937500 W= 1552.6105 b= -382.4061\n",
            "Epoch: 4200 cost= 185728.73437500 W= 1552.6108 b= -382.4122\n",
            "Epoch: 4400 cost= 185728.70312500 W= 1552.6111 b= -382.4156\n",
            "Epoch: 4600 cost= 185728.54687500 W= 1552.6112 b= -382.4165\n",
            "Epoch: 4800 cost= 185728.54687500 W= 1552.6112 b= -382.4165\n",
            "=========================================================\n",
            "Optimised: cost= 185728.546875000 W= 1552.6112 b= -382.4165\n"
          ],
          "name": "stdout"
        },
        {
          "output_type": "display_data",
          "data": {
            "image/png": "[encoded data removed]",
            "text/plain": [
              "<Figure size 576x396 with 1 Axes>"
            ]
          },
          "metadata": {
            "tags": []
          }
        },
        {
          "output_type": "stream",
          "text": [
            "Testing cost= 141636.1\n",
            "Absolute mean square loss difference: 44092.453\n"
          ],
          "name": "stdout"
        },
        {
          "output_type": "display_data",
          "data": {
            "image/png": "[encoded data removed]",
            "text/plain": [
              "<Figure size 576x396 with 1 Axes>"
            ]
          },
          "metadata": {
            "tags": []
          }
        }
      ]
    },
    {
      "metadata": {
        "id": "DzDFV8OrQ1w0",
        "colab_type": "text"
      },
      "cell_type": "markdown",
      "source": [
        "More info:\n",
        "[GradientDescentOptimizer](https://www.tensorflow.org/api_docs/python/tf/train/GradientDescentOptimizer), "
      ]
    },
    {
      "metadata": {
        "id": "7g3eNemEOklg",
        "colab_type": "text"
      },
      "cell_type": "markdown",
      "source": [
        "# NLTK Library and WordNet"
      ]
    },
    {
      "metadata": {
        "id": "D8btJKEBxSS1",
        "colab_type": "text"
      },
      "cell_type": "markdown",
      "source": [
        "WordNet® is a large lexical database of English. Nouns, verbs, adjectives and adverbs are grouped into sets of cognitive synonyms (synsets), each expressing a distinct concept."
      ]
    },
    {
      "metadata": {
        "id": "ofWRw7omOeWf",
        "colab_type": "text"
      },
      "cell_type": "markdown",
      "source": [
        "In Python, NLTK library includes English WordNet.\n",
        "\n",
        "**To use wordnet, you need to download the wordnet data via NLTK library**\n",
        "\n",
        " * **[NLTK](https://www.nltk.org/)** is a **N**atural **L**anguage **T**ool**k**iit for python. "
      ]
    },
    {
      "metadata": {
        "id": "iVqxuaIpOIOl",
        "colab_type": "code",
        "colab": {}
      },
      "cell_type": "code",
      "source": [
        "import nltk"
      ],
      "execution_count": 0,
      "outputs": []
    },
    {
      "metadata": {
        "id": "I2cusD7IovCi",
        "colab_type": "text"
      },
      "cell_type": "markdown",
      "source": [
        "## WordNet"
      ]
    },
    {
      "metadata": {
        "id": "OuDwzN6OosjB",
        "colab_type": "code",
        "outputId": "ef51fbac-1330-4e7c-f7cc-3e83ce5b3a59",
        "colab": {
          "base_uri": "https://localhost:8080/",
          "height": 69
        }
      },
      "cell_type": "code",
      "source": [
        "nltk.download('wordnet')"
      ],
      "execution_count": 0,
      "outputs": [
        {
          "output_type": "stream",
          "text": [
            "[nltk_data] Downloading package wordnet to /root/nltk_data...\n",
            "[nltk_data]   Unzipping corpora/wordnet.zip.\n"
          ],
          "name": "stdout"
        },
        {
          "output_type": "execute_result",
          "data": {
            "text/plain": [
              "True"
            ]
          },
          "metadata": {
            "tags": []
          },
          "execution_count": 3
        }
      ]
    },
    {
      "metadata": {
        "id": "1JKvb0XKNzxw",
        "colab_type": "code",
        "colab": {}
      },
      "cell_type": "code",
      "source": [
        "from nltk.corpus import wordnet as wn"
      ],
      "execution_count": 0,
      "outputs": []
    },
    {
      "metadata": {
        "id": "ucVb1XeAnnFo",
        "colab_type": "text"
      },
      "cell_type": "markdown",
      "source": [
        "Let's get a set of synonyms that share a common meaning."
      ]
    },
    {
      "metadata": {
        "id": "ecoLLQPlxlOc",
        "colab_type": "code",
        "colab": {}
      },
      "cell_type": "code",
      "source": [
        "dog = wn.synset('dog.n.01')\n",
        "person = wn.synset('person.n.01')\n",
        "cat = wn.synset('cat.n.01')\n",
        "computer = wn.synset('computer.n.01')"
      ],
      "execution_count": 0,
      "outputs": []
    },
    {
      "metadata": {
        "id": "P4rd7JPrr4sc",
        "colab_type": "text"
      },
      "cell_type": "markdown",
      "source": [
        "### path_similarity()\n",
        "path_similarity() returns a score denoting how similar two word senses are, based on the shortest path that connects the senses in the is-a (hypernym/hypnoym) taxonomy. The score is in the range 0 to 1."
      ]
    },
    {
      "metadata": {
        "id": "aiTFSsHqsREt",
        "colab_type": "code",
        "outputId": "74bc37f3-1540-40c6-f507-d2bc0797b76a",
        "colab": {
          "base_uri": "https://localhost:8080/",
          "height": 87
        }
      },
      "cell_type": "code",
      "source": [
        "print(\"dog<->cat : \", wn.path_similarity(dog,cat))\n",
        "print(\"person<->cat : \", wn.path_similarity(person,cat))\n",
        "print(\"person<->dog : \", wn.path_similarity(person,dog))\n",
        "print(\"person<->computer : \", wn.path_similarity(person,computer))"
      ],
      "execution_count": 0,
      "outputs": [
        {
          "output_type": "stream",
          "text": [
            "dog<->cat :  0.2\n",
            "person<->cat :  0.1\n",
            "person<->dog :  0.2\n",
            "person<->computer :  0.1111111111111111\n"
          ],
          "name": "stdout"
        }
      ]
    },
    {
      "metadata": {
        "id": "rJfYbAtPrMNS",
        "colab_type": "text"
      },
      "cell_type": "markdown",
      "source": [
        "### Wu-Palmer Similarity (wup_similarity() )\n",
        "wup_similarity() returns a score denoting how similar two word senses are, based on the depth of the two senses in the taxonomy and that of their Least Common Subsumer (most specific ancestor node)."
      ]
    },
    {
      "metadata": {
        "id": "Jno6d9Mdrbu0",
        "colab_type": "code",
        "outputId": "336cc0b4-4f1f-4b78-c0af-4c0e2295c952",
        "colab": {
          "base_uri": "https://localhost:8080/",
          "height": 87
        }
      },
      "cell_type": "code",
      "source": [
        "print(\"dog<->cat : \", wn.wup_similarity(dog,cat))\n",
        "print(\"person<->cat : \", wn.wup_similarity(person,cat))\n",
        "print(\"person<->dog : \", wn.wup_similarity(person,dog))\n",
        "print(\"person<->computer : \", wn.wup_similarity(person,computer))"
      ],
      "execution_count": 0,
      "outputs": [
        {
          "output_type": "stream",
          "text": [
            "dog<->cat :  0.8571428571428571\n",
            "person<->cat :  0.5714285714285714\n",
            "person<->dog :  0.75\n",
            "person<->computer :  0.5\n"
          ],
          "name": "stdout"
        }
      ]
    },
    {
      "metadata": {
        "id": "RVtVC7LnqS9T",
        "colab_type": "text"
      },
      "cell_type": "markdown",
      "source": [
        "# Exercise\n",
        "\n",
        "Write a program to find the most and the least similar words by nesting its synonyms or antonyms. To compare words, you can use two similarity measurement functions (path_similarity() and wup_similarity()). Please give a nesting limit so that your program cannot nest more than 6 times (as argument and should have default value). \n",
        "\n",
        "Useful information: [NLTK-WordNet](http://www.nltk.org/howto/wordnet.html#synsets)\n",
        "\n",
        "Note. Some words do not have antonyms (dog, cat, person, computer, etc.)\n",
        "\n"
      ]
    },
    {
      "metadata": {
        "colab_type": "code",
        "id": "CrYcJ_3v7bzC",
        "colab": {}
      },
      "cell_type": "code",
      "source": [
        "# You should submit \"ipynb\" file (You can download it from \"File\" > \"Download .ipynb\") to Canvas\n",
        "# You can write extra functions\n",
        "\n",
        "def find_similar_words(word, max_nesting=6):\n",
        "  similar_words = {\n",
        "      \"least\":\"\",\n",
        "      \"most\":\"\"\n",
        "  }\n",
        "  \n",
        "  # we proposed word is str\n",
        "  # a iterator to go through the result tree\n",
        "  # and return the list of all non-repeating nodes\n",
        "  def iterator(word, max_nesting, wordbag):\n",
        "    \n",
        "    # find word's synonyms and antonyms\n",
        "    synonyms = []\n",
        "    antonyms = []\n",
        "    \n",
        "    for syn in wn.synsets(word):\n",
        "      for lemma in syn.lemmas():\n",
        "        synonyms.append(lemma.name())\n",
        "        for ant in lemma.antonyms():\n",
        "          antonyms.append(ant.name())\n",
        "\n",
        "    synonyms = list(set(synonyms))\n",
        "    antonyms = list(set(antonyms))\n",
        "\n",
        "    # the controller of iterator\n",
        "    if max_nesting > 0:\n",
        "      max_nesting -= 1\n",
        "      for syn in synonyms:\n",
        "        if syn not in wordbag:\n",
        "          wordbag.append(syn)\n",
        "          iterator(syn, max_nesting, wordbag)\n",
        "\n",
        "      for ant in antonyms:\n",
        "        if ant not in wordbag:\n",
        "          wordbag.append(ant)\n",
        "          iterator(ant, max_nesting, wordbag)\n",
        "   \n",
        "  # get result and fill into the word bag, \n",
        "  # but remove the word itself\n",
        "  wordbag = []\n",
        "  iterator(word, max_nesting, wordbag)\n",
        "  if word in wordbag:\n",
        "    wordbag.remove(word)\n",
        "  \n",
        "  # comepare the similarity between word with items in wordbag\n",
        "  # use the avg(similarity) of all meanings of each word as the total similarity\n",
        "  # and ouput the result in the dict: similar_words\n",
        "  least, most= 1, 0\n",
        "  word_syns = wn.synsets(word)\n",
        "  for item in wordbag:\n",
        "    sum_simi = 0\n",
        "    count = 0\n",
        "    for word_syn in word_syns:\n",
        "      for item_syn in wn.synsets(item):\n",
        "        simi = wn.wup_similarity(item_syn, word_syn)\n",
        "#         simi = wn.wup_similarity(word_syn, item_syn)\n",
        "        if simi: \n",
        "          count += 1\n",
        "          sum_simi += simi\n",
        "    if count > 0:\n",
        "      simi = sum_simi/count\n",
        "      if simi:\n",
        "        if simi < least:\n",
        "          least = simi\n",
        "          similar_words[\"least\"] = item\n",
        "\n",
        "        if simi > most:\n",
        "          most = simi\n",
        "          similar_words[\"most\"] = item\n",
        "      \n",
        "  return similar_words"
      ],
      "execution_count": 0,
      "outputs": []
    },
    {
      "metadata": {
        "id": "Ls1xtI5X_SXd",
        "colab_type": "code",
        "outputId": "4fd9fb3c-08bb-46fa-e9e1-97f789529ef0",
        "colab": {
          "base_uri": "https://localhost:8080/",
          "height": 35
        }
      },
      "cell_type": "code",
      "source": [
        "# A sample\n",
        "find_similar_words('dog', max_nesting=6)"
      ],
      "execution_count": 0,
      "outputs": [
        {
          "output_type": "execute_result",
          "data": {
            "text/plain": [
              "{'least': 'scurvy', 'most': 'domestic_dog'}"
            ]
          },
          "metadata": {
            "tags": []
          },
          "execution_count": 147
        }
      ]
    },
    {
      "metadata": {
        "id": "30kFdMAbBnWx",
        "colab_type": "text"
      },
      "cell_type": "markdown",
      "source": [
        "# Extension\n",
        "Test your program with 10 different words (selects randomly by yourself) and find the reasonable threshold limit for the number of nestings (by changing value for max_nesting argument)"
      ]
    },
    {
      "metadata": {
        "id": "iq6yaGo8CI_7",
        "colab_type": "code",
        "outputId": "e2909c37-958b-47ef-b8af-083ad60e3bf5",
        "colab": {
          "base_uri": "https://localhost:8080/",
          "height": 390
        }
      },
      "cell_type": "code",
      "source": [
        "# This is an extension task. You do not need to submit this task for your assessment.\n",
        "\n",
        "words = [\"test\", \"program\", \"ten\", \"different\", \"word\", \"assessment\", \"limit\", \"number\", \"nesting\", \"value\"]\n",
        "print(\"The length of word list is:\", len(words))\n",
        "\n",
        "max_nesting = 6\n",
        "print(\"The max nesting is:\", max_nesting)\n",
        "\n",
        "table = []\n",
        "for word in words:\n",
        "  similar_words = find_similar_words(word, max_nesting)\n",
        "  table.append([word, similar_words[\"least\"], similar_words[\"most\"]])\n",
        "  \n",
        "\n",
        "import pandas as pd\n",
        "table = pd.DataFrame(table)\n",
        "table.columns = ['word','least','most']\n",
        "table"
      ],
      "execution_count": 0,
      "outputs": [
        {
          "output_type": "stream",
          "text": [
            "The length of word list is: 10\n",
            "The max nesting is: 6\n"
          ],
          "name": "stdout"
        },
        {
          "output_type": "execute_result",
          "data": {
            "text/html": [
              "<div>\n",
              "<style scoped>\n",
              "    .dataframe tbody tr th:only-of-type {\n",
              "        vertical-align: middle;\n",
              "    }\n",
              "\n",
              "    .dataframe tbody tr th {\n",
              "        vertical-align: top;\n",
              "    }\n",
              "\n",
              "    .dataframe thead th {\n",
              "        text-align: right;\n",
              "    }\n",
              "</style>\n",
              "<table border=\"1\" class=\"dataframe\">\n",
              "  <thead>\n",
              "    <tr style=\"text-align: right;\">\n",
              "      <th></th>\n",
              "      <th>word</th>\n",
              "      <th>least</th>\n",
              "      <th>most</th>\n",
              "    </tr>\n",
              "  </thead>\n",
              "  <tbody>\n",
              "    <tr>\n",
              "      <th>0</th>\n",
              "      <td>test</td>\n",
              "      <td>screen_door</td>\n",
              "      <td>psychometric_test</td>\n",
              "    </tr>\n",
              "    <tr>\n",
              "      <th>1</th>\n",
              "      <td>program</td>\n",
              "      <td>everlasting</td>\n",
              "      <td>syllabus</td>\n",
              "    </tr>\n",
              "    <tr>\n",
              "      <th>2</th>\n",
              "      <td>ten</td>\n",
              "      <td>gaffer</td>\n",
              "      <td>10</td>\n",
              "    </tr>\n",
              "    <tr>\n",
              "      <th>3</th>\n",
              "      <td>different</td>\n",
              "      <td>standardised</td>\n",
              "      <td>dissimilar</td>\n",
              "    </tr>\n",
              "    <tr>\n",
              "      <th>4</th>\n",
              "      <td>word</td>\n",
              "      <td>jolly_boat</td>\n",
              "      <td>word_of_honor</td>\n",
              "    </tr>\n",
              "    <tr>\n",
              "      <th>5</th>\n",
              "      <td>assessment</td>\n",
              "      <td>pinnace</td>\n",
              "      <td>touch_sensation</td>\n",
              "    </tr>\n",
              "    <tr>\n",
              "      <th>6</th>\n",
              "      <td>limit</td>\n",
              "      <td>entice</td>\n",
              "      <td>limit_point</td>\n",
              "    </tr>\n",
              "    <tr>\n",
              "      <th>7</th>\n",
              "      <td>number</td>\n",
              "      <td>outlawed</td>\n",
              "      <td>human_race</td>\n",
              "    </tr>\n",
              "    <tr>\n",
              "      <th>8</th>\n",
              "      <td>nesting</td>\n",
              "      <td>nose</td>\n",
              "      <td>nest</td>\n",
              "    </tr>\n",
              "    <tr>\n",
              "      <th>9</th>\n",
              "      <td>value</td>\n",
              "      <td>kitchen_stove</td>\n",
              "      <td>economic_value</td>\n",
              "    </tr>\n",
              "  </tbody>\n",
              "</table>\n",
              "</div>"
            ],
            "text/plain": [
              "         word          least               most\n",
              "0        test    screen_door  psychometric_test\n",
              "1     program    everlasting           syllabus\n",
              "2         ten         gaffer                 10\n",
              "3   different   standardised         dissimilar\n",
              "4        word     jolly_boat      word_of_honor\n",
              "5  assessment        pinnace    touch_sensation\n",
              "6       limit         entice        limit_point\n",
              "7      number       outlawed         human_race\n",
              "8     nesting           nose               nest\n",
              "9       value  kitchen_stove     economic_value"
            ]
          },
          "metadata": {
            "tags": []
          },
          "execution_count": 169
        }
      ]
    },
    {
      "metadata": {
        "id": "dEXxnkq6UR-X",
        "colab_type": "code",
        "colab": {}
      },
      "cell_type": "code",
      "source": [
        "def similarity(word1, word2):\n",
        "  count = 0\n",
        "  sum_simi = 0\n",
        "  similarity = 0\n",
        "  for word1_syn in wn.synsets(word1):\n",
        "    for word2_syn in wn.synsets(word2):\n",
        "      simi = wn.wup_similarity(word2_syn,word1_syn)\n",
        "      if simi: \n",
        "        count += 1\n",
        "        sum_simi += simi\n",
        "  if count > 0:\n",
        "    similarity = sum_simi/count\n",
        "  return similarity"
      ],
      "execution_count": 0,
      "outputs": []
    },
    {
      "metadata": {
        "id": "DmjU7b-lagD8",
        "colab_type": "code",
        "colab": {}
      },
      "cell_type": "code",
      "source": [
        "import random\n",
        "colors =  ['g', 'm', 'b', 'c', 'r', 'k', 'y']\n",
        "forms = ['-','--','-.',':']\n",
        "\n",
        "def random_format():\n",
        "  color = colors[random.randint(0, len(colors)-1)]\n",
        "  return [color+'-', color+':']"
      ],
      "execution_count": 0,
      "outputs": []
    },
    {
      "metadata": {
        "id": "WPT1UIxxUMVF",
        "colab_type": "code",
        "colab": {}
      },
      "cell_type": "code",
      "source": [
        "# This is an extension task. You do not need to submit this task for your assessment.\n",
        "import numpy as np\n",
        "import pandas as pd\n",
        "import matplotlib.pyplot as plt\n",
        "\n",
        "max_nesting = 10\n",
        "# words = [\"test\", \"program\", \"ten\", \"different\", \"word\", \"assessment\", \"limit\", \"number\", \"nesting\", \"value\"]\n",
        "words = [\"ten\", \"word\", \"assessment\", \"number\", \"value\"]\n",
        "\n",
        "print(\"The length of word list is:\", len(words))\n",
        "\n",
        "result = {}\n",
        "for word in words:\n",
        "  result[word] = []\n",
        "\n",
        "for nest in range(0, max_nesting):\n",
        "#   if nest%10 == 9:\n",
        "  print(nest)\n",
        "  \n",
        "  for word in words:\n",
        "    similar_words = find_similar_words(word, nest)\n",
        "    result[word].append([nest, similarity(word, similar_words[\"least\"]), similarity(word, similar_words[\"most\"])])\n",
        " \n",
        "print('end')"
      ],
      "execution_count": 0,
      "outputs": []
    },
    {
      "metadata": {
        "id": "3N1WIybjmTjD",
        "colab_type": "code",
        "outputId": "3ffc9204-e6bc-4c71-dc7d-29084ef6f707",
        "colab": {
          "base_uri": "https://localhost:8080/",
          "height": 347
        }
      },
      "cell_type": "code",
      "source": [
        "words = [\"ten\", \"word\", \"assessment\", \"number\", \"value\"]\n",
        "for word in words:\n",
        "  table1 = pd.DataFrame(result[word])\n",
        "  table1.columns = ['nest','least','most']\n",
        "  form = random_format()\n",
        "  \n",
        "  plt.plot(table1['nest'], table1['most'], form[0], label=word + ' most')\n",
        "  plt.plot(table1['nest'], table1['least'], form[1], label=word + ' least')\n",
        "\n",
        "plt.legend(bbox_to_anchor=(1.05, 0), loc=3, borderaxespad=0)\n",
        "plt.show()"
      ],
      "execution_count": 0,
      "outputs": [
        {
          "output_type": "display_data",
          "data": {
            "image/png": "[encoded data removed]",
            "text/plain": [
              "<Figure size 576x396 with 1 Axes>"
            ]
          },
          "metadata": {
            "tags": []
          }
        }
      ]
    },
    {
      "metadata": {
        "id": "AN4dEVzPHrZ7",
        "colab_type": "code",
        "colab": {}
      },
      "cell_type": "code",
      "source": [
        ""
      ],
      "execution_count": 0,
      "outputs": []
    },
    {
      "metadata": {
        "id": "tifSsllcHrGS",
        "colab_type": "code",
        "colab": {}
      },
      "cell_type": "code",
      "source": [
        ""
      ],
      "execution_count": 0,
      "outputs": []
    }
  ]
}